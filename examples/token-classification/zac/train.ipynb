{
 "metadata": {
  "language_info": {
   "codemirror_mode": {
    "name": "ipython",
    "version": 3
   },
   "file_extension": ".py",
   "mimetype": "text/x-python",
   "name": "python",
   "nbconvert_exporter": "python",
   "pygments_lexer": "ipython3",
   "version": "3.6.12-final"
  },
  "orig_nbformat": 2,
  "kernelspec": {
   "name": "Python 3.6.12 64-bit",
   "display_name": "Python 3.6.12 64-bit",
   "metadata": {
    "interpreter": {
     "hash": "1bd94d72ea1c931ca1e9873483145072b73fa905630d31b95aa61568ae1bc5c2"
    }
   }
  }
 },
 "nbformat": 4,
 "nbformat_minor": 2,
 "cells": [
  {
   "cell_type": "code",
   "execution_count": 1,
   "metadata": {},
   "outputs": [
    {
     "output_type": "execute_result",
     "data": {
      "text/plain": [
       "701"
      ]
     },
     "metadata": {},
     "execution_count": 1
    }
   ],
   "source": [
    "import json\n",
    "with open('train/train.jsonl',encoding=\"utf-8\") as f:\n",
    "    train = [json.loads(jline) for jline in f.read().splitlines()]\n",
    "len(train)"
   ]
  },
  {
   "cell_type": "code",
   "execution_count": 32,
   "metadata": {},
   "outputs": [],
   "source": [
    "def item_to_string(item):\n",
    "    s=''\n",
    "    for para in item['original_doc']['_source']['body']:\n",
    "        s+=para['text']+'\\n'\n",
    "    return s"
   ]
  },
  {
   "cell_type": "code",
   "execution_count": 2,
   "metadata": {},
   "outputs": [
    {
     "output_type": "stream",
     "name": "stdout",
     "text": [
      "270\n"
     ]
    }
   ],
   "source": [
    "max_length=0\n",
    "for item in train[:30]:\n",
    "    for para in item['original_doc']['_source']['body']:\n",
    "        max_length=max(max_length,len(para['text'].split()))\n",
    "print(max_length)"
   ]
  },
  {
   "cell_type": "code",
   "execution_count": 146,
   "metadata": {},
   "outputs": [
    {
     "output_type": "stream",
     "name": "stdout",
     "text": [
      "[['Diego_Costa']]\n"
     ]
    }
   ],
   "source": [
    "from vncorenlp import VnCoreNLP\n",
    "rdrsegmenter = VnCoreNLP(\"VnCoreNLP/VnCoreNLP-1.1.1.jar\", annotators=\"wseg\", max_heap_size='-Xmx500m') \n",
    "\n",
    "# Input \n",
    "text = \"Diego Costa\"\n",
    "\n",
    "# To perform word (and sentence) segmentation\n",
    "sentences = rdrsegmenter.tokenize(text) \n",
    "print(sentences)"
   ]
  },
  {
   "cell_type": "code",
   "execution_count": 43,
   "metadata": {},
   "outputs": [
    {
     "output_type": "stream",
     "name": "stdout",
     "text": [
      "479 22994451 Ngay ở phút thứ 2, tân binh đắt giá Lacazette đã lập tức đặt dấu ấn của mình bằng pha đánh đầu hiểm hóc ở tỉ số cho Arsenal.\nTuy nhiên, đội chủ nhà liên tiếp để Leicester vươn lên dẫn trước 2-1 nhờ các bàn thắng của Okazaki (5') và Vardy ở phút 29.\n[Video tổng hợp trận đấu ở cuối bài]\nArsenal và Leicester đã tạo nên một màn rượt đuổi điên rồ\nRất may là trước giờ nghỉ giải lao, Welbeck đã dễ dàng giúp Pháo thủ quân binh tỉ số 2-2. Nếu để thua trước khi hiệp 1 khép lại, tâm lý các học trò HLV Wenger sẽ bị đè nặng và chưa biết điều gì sẽ xảy ra.\nNhưng ngay cả như vậy, đội chủ sân Emirates cũng bước vào hiệp 2 với phong thái như \"đãi khách\". Phần vì hàng thủ của Arsenal lỏng lẻo, phần vì Leicester tấn công quá hay, mà Vardy đã có cú đúp cho riêng mình phút 56, đưa đội khách vươn lên dẫn 3-2.\nSự kịch tính và phấn khích được đẩy lên đỉnh điểm, khi liên tiếp trong các phút 83 và 85, Aaron Ramsey và tiền đạo vào sân thay người Giroud đã liên tiếp ghi những bàn thắng quý hơn vàng, giúp Arsenal giành chiến thắng chung cuộc 4-3.\nSân Emirates như \"nổ tung\". Một màn chào mùa giải mới không thể tưng bừng hơn của hai đội!\nVideo tổng hợp trận đấu:\nshowvideo('video1633037', 'http://streaming.anninhthudo.vn/be8a7ac2941e98a55b00b460266f5953/598fa490/2017_08_12/phidiep/20170812042758arsenalvsleicester43allgoalshighlights11082017hd.mp4');\nPhi Phi\n\n497 23021370 Đông Timor từ xưa đến nay vẫn chỉ là một đội bóng nhỏ ở Đông Nam Á, và chưa bao giờ là đối thủ của Việt Nam. Trong 2 lần gặp gỡ gần nhất ở vòng bảng SEA Games 28 và vòng loại U23 châu Á cách đây 1 tháng, chúng ta đều thắng đối thủ này tới 4-0.\nĐoàn Văn Hậu thi đấu chói sáng trong 45 phút đầu tiên (Ảnh: Tiểu Lam)\nVà trong trận đấu chiều 15-8, không có bất ngờ nào xảy ra từ đối thủ này. Thầy trò HLV Hữu Thắng đã có thêm một trận đấu dễ dàng nữa từ sự vượt trội hoàn toàn ở trên sân.\nNgay từ phút thứ 8, U22 Việt Nam đã mở tỉ số sau khi hậu vệ trái Đoàn Văn Hậu tận dụng pha bóng lập bập trong vòng cấm, sút tung lưới đội bóng áo trắng.\nXem video clip Đoàn Văn Hậu mở tỉ số:\nshowvideo('video9432817', 'http://streaming.anninhthudo.vn/0be74d346bf3369d81965ae738022f97/59970f00/2017_08_15/phidiep/goal821502785094.mp4');\nPhút 20, cách biệt được nhân đôi và Đoàn Văn Hậu lại đặt dấu giày. Từ một pha leo biên trái, cựu hậu vệ U20 Việt Nam này tạt chuẩn xác để Hà Đức Chinh đánh đầu cắt mặt. 2-0 cho U22 Việt Nam.\nXem video clip Đức Chinh nâng tỉ số lên 2-0:\nshowvideo('video6419275', 'http://streaming.anninhthudo.vn/73c58dc7618e7585de8d6736c9654679/59970f00/2017_08_15/phidiep/goal21502785746.mp4');\nCách biệt an toàn càng khiến cho các học trò của HLV Hữu Thắng chơi thoải mái hơn. Đó là lý do mà các hậu vệ biên, nổi bật là Văn Hậu có thể thoải mái lên tấn công mà không phải quá bận tâm nhiệm vụ phòng ngự.\nVà hiệp đấu quá thành công của Văn Hậu được khép lại bằng pha bóng nâng tỉ số lên 3-0, đồng thời là cú đúp cho riêng anh ở phút 41. Đó là một pha sút xa không cho thủ thành của Đông Timor một cơ hội cản phá nào.\nXem video clip Văn Hậu nhân 3 cách biệt:\nshowvideo('video8751843', 'http://streaming.anninhthudo.vn/be3615c7d6ec4d1b14122b39e3a1766b/59970f00/2017_08_15/phidiep/goal31502787100.mp4');\nBước vào hiệp 2, U22 Việt Nam không dừng lại trong các pha tấn công. Chỉ có điều, rất nhiều cơ hội đã bị các chân sút của chúng ta bỏ lỡ. Nếu nắn nót hơn trong những tình huống của mình, Đức Chinh đã có thêm ghi thêm 2 bàn thắng nữa.\nCông Phượng cũng là cái tên được chờ đợi sẽ \"nổ súng\" trong ngày khai cuộc này. Dù vậy, trong rất nhiều cơ hội của mình, tiền đạo mang áo số 10 đều tỏ ra rất vô duyên.\nPhải đến phút 72, khi mà đồng đội Văn Toàn tạo điều kiện vô cùng thuận lợi trong vòng cấm, Công Phượng mới có bàn thắng cho riêng mình, nâng tỉ số lên 4-0.\nXem video clip bàn thắng của Công Phượng:\nshowvideo('video3193042', 'http://streaming.anninhthudo.vn/5597448a07fc26057d8b874bc48b514c/59970f00/2017_08_15/phidiep/goal4cp1502790187.mp4');\n4-0 cũng là tỉ số cuối cùng của trận đấu này. Dù chưa hoàn toàn như ý, nhưng nó cũng đã là một màn khởi đầu suôn sẻ của thầy trò HLV Hữu Thắng trên chặng đường chinh phục tấm HCV SEA Games đầu tiên cho bóng đá Việt Nam.\nPhi Phi\n\n508 23041155 Các học trò HLV Hữu Thắng nhập cuộc khá vất vả ở trận đấu này, phần vì U22 Campuchia là đối thủ khó chơi hơn nhiều so với U22 Đông Timor, phần vì mặt sân Shah Alam xấu, khiến lối chơi kỹ thuật của U22 Việt Nam bị ảnh hưởng.\nCông Phượng đã có 3 bàn thắng ở SEA Games năm nay\nGần như trong cả hiệp 1, các miếng phối hợp của đội bóng áo đỏ đều tỏ ra thiếu kết dính. Các cầu thủ rất hay bị vấp bóng, khiến cho các đợt tấn công thường bị gãy giữa chừng. Hai tiền đạo là Công Phượng và Đức Chinh hầu như không có pha phối hợp nào đáng kể, mà những tình huống nguy hiểm gần như chỉ tới từ nỗ lực cá nhân của Công Phượng.\nĐúng với nhận định ban đầu, U22 Campuchia chủ động chơi phòng ngự, càng khiến cho các học trò của HLV Hữu Thắng gặp khó khăn. Trong thế trận khá bế tắc, chỉ có những pha phối hợp thực sự nhuần nhuyễn và ăn ý mới có thể giúp U22 Việt Nam tìm được bàn thắng.\nVà phải đến phút bù giờ đầu tiên của hiệp 1, đội bóng áo đỏ mới làm được điều này. Pha phối hợp giữa những cầu thủ HAGL ở cánh phải đã giúp Công Phượng, ở một vị trí cực kỳ thuận lợi, đệm bóng chính xác mở tỉ số cho U22 Việt Nam.\nVideo bàn thắng mở tỉ số của Công Phượng:\nshowvideo('video3248333', 'http://streaming.anninhthudo.vn/feda82eb886e6f8d08b84a1fb2d52b2f/59993370/2017_08_17/thuanthu/goalcp1502959948.mp4');\nQuang Hải sút bóng tầm thấp, bóng đập đất và đi vào góc xa khung thành, trong sự bất ngờ của hàng thủ đội bạn.\nVideo bàn thắng nâng tỉ số lên 2-0 của Quang Hải:\nshowvideo('video3487249', 'http://streaming.anninhthudo.vn/160774dd2e2834483db22560dbfe8a60/59993370/2017_08_17/phidiep/goal2phut701502962709.mp4');\nBàn thua này khiến U22 Campuchia càng rệu rã. Đó là lý do vì sao liên tiếp trong các phút 75 và 77, U22 Việt Nam có thêm 2 bàn nữa do công của Công Phượng (đây là cú đúp của anh) và Hồ Tuấn Tài.\nVideo bàn thắng thứ hai của Công Phượng:\nshowvideo('video7444849', 'http://streaming.anninhthudo.vn/25d1a9cc915f736e2a354fc6d2165608/59993370/2017_08_17/phidiep/goal75goal31502962755.mp4');\nVideo bàn thắng của Hồ Tuấn Tài:\nshowvideo('video3892571', 'http://streaming.anninhthudo.vn/a27e2b31e94a7c6da10167e3c6441246/59993370/2017_08_17/phidiep/phut761502962852.mp4');\nU22 Campuchia tránh được một trận thua trắng vào phút 83, sau khi Nen Sotheearoth thực hiện thành công cú đá phạt đền, ấn định tỉ số 1-4 cho trận đấu.\nVới 6 điểm sau 2 lượt trận, thầy trò HLV Hữu Thắng có thể an tâm hơn phần nào với việc giành vé vào bán kết, trước khi bước vào những trận quyết đấu sắp tới với hai đối thủ chính là Indonesia và Thái Lan.\nVideo bàn thắng của Campuchia:\nshowvideo('video1232188', 'http://streaming.anninhthudo.vn/62a41ae411c718b52b229da32230717e/59993370/2017_08_17/phidiep/phut83goal1502963355.mp4');\nPhi Phi\n\n"
     ]
    },
    {
     "output_type": "execute_result",
     "data": {
      "text/plain": [
       "0"
      ]
     },
     "metadata": {},
     "execution_count": 43
    }
   ],
   "source": [
    "para_cnt=0\n",
    "for idx,item in enumerate(train):\n",
    "    text=item_to_string(item)\n",
    "    if '_' in text:\n",
    "        print(idx,item['train_id'],text)\n",
    "para_cnt"
   ]
  },
  {
   "cell_type": "code",
   "execution_count": 46,
   "metadata": {},
   "outputs": [
    {
     "output_type": "execute_result",
     "data": {
      "text/plain": [
       "{'content': 'Bàn thắng', 'text': 'Bàn thắng', 'type': 'text'}"
      ]
     },
     "metadata": {},
     "execution_count": 46
    }
   ],
   "source": [
    "item['original_doc']['_source']['body'][0]"
   ]
  },
  {
   "cell_type": "code",
   "execution_count": 101,
   "metadata": {},
   "outputs": [],
   "source": [
    "# max_length=0\n",
    "l=[]\n",
    "for item in train:\n",
    "    for para in item['original_doc']['_source']['body']:\n",
    "        l.append(len(tokenize(para['text'])))\n",
    "\n",
    "        # max_length=max(max_length,len(tokenize(para['text'])))\n",
    "# print(max_length)"
   ]
  },
  {
   "cell_type": "code",
   "execution_count": 111,
   "metadata": {},
   "outputs": [],
   "source": [
    "def match_arr(sub, arr, idx):\n",
    "    for i in range(len(sub)):\n",
    "        if sub[i]!=arr[idx+i]:\n",
    "            return False\n",
    "    return True\n",
    "\n",
    "def find_array(sub,arr):\n",
    "    if len(sub)==0 or len(arr)==0:\n",
    "        return -1\n",
    "    for i in range(len(arr)-len(sub)+1):\n",
    "        if match_arr(sub,arr,i):\n",
    "            return i\n",
    "    return -1\n",
    "\n",
    "def find_all_array(sub,arr):\n",
    "    result=[]\n",
    "    for i in range(len(arr)-len(sub)+1):\n",
    "        if match_arr(sub,arr,i):\n",
    "            result.append(i)\n",
    "    return result\n"
   ]
  },
  {
   "cell_type": "code",
   "execution_count": 155,
   "metadata": {
    "tags": []
   },
   "outputs": [],
   "source": [
    "import itertools\n",
    "from bs4 import BeautifulSoup\n",
    "\n",
    "def tokenize(text):\n",
    "    token_sentences = rdrsegmenter.tokenize(text)\n",
    "    return list(itertools.chain.from_iterable(token_sentences))\n",
    "\n",
    "def generate_ner_annotation(item,idx_item):\n",
    "    result=[]\n",
    "\n",
    "    for idx,html in enumerate(item[\"html_annotation\"]):\n",
    "        para_tokens = tokenize(item['original_doc']['_source']['body'][idx]['text'])\n",
    "        tags = ['O']*len(para_tokens)\n",
    "\n",
    "        soup = BeautifulSoup(html)\n",
    "        events = soup.find_all(\"span\", {\"class\": \"tag\"})\n",
    "        for e in events:\n",
    "            event_tokens = tokenize(e.text)\n",
    "            event_pos = find_array(event_tokens,para_tokens)\n",
    "            if event_pos==-1:\n",
    "                print(event_tokens,para_tokens)\n",
    "                print(idx_item, idx,'---------------------------')\n",
    "                return []\n",
    "                # print('--',event_tokens)\n",
    "                # print('++',para_tokens)\n",
    "\n",
    "            event_info_list = ref_id_to_info(e['event_id'],item['match_summary'])\n",
    "            # print(event_info_list)\n",
    "            for info in event_info_list:\n",
    "                for attr in info[1]:\n",
    "                    if attr!='ref_event_ids' and info[1][attr].strip()!='':\n",
    "                        attr_tokens = tokenize(info[1][attr])\n",
    "                        attr_pos_list = find_all_array(attr_tokens,event_tokens)\n",
    "                        # if len(attr_pos_list)==0:\n",
    "                            # print('---',info[1][attr])\n",
    "                        for attr_pos in attr_pos_list:\n",
    "                            tags[event_pos+attr_pos]='B'+'-'+info[0]+'_'+attr\n",
    "                            for i in range(1,len(attr_tokens)):\n",
    "                                tags[event_pos+attr_pos+i]='I'+'-'+info[0]+'_'+attr\n",
    "                            # print(info[1][attr],tags[event_pos+attr_pos])\n",
    "\n",
    "        # print(tags)\n",
    "        result.append(list(zip(para_tokens,tags)))\n",
    "    return result\n",
    "\n",
    "        \n",
    "\n",
    "\n",
    "        # events_info = ref_id_to_info(e['event_id'],item['match_summary'])\n",
    "        # for info in events_info:\n",
    "        #     if info[0]=='score_list':\n",
    "                \n",
    "    # for e in events:\n",
    "    #     print(\"event_type:\", e[\"data\"])\n",
    "    #     print(\"event_id:\", e[\"event_id\"])\n",
    "    #     print(\"text:\", e.text)"
   ]
  },
  {
   "cell_type": "code",
   "execution_count": 160,
   "metadata": {},
   "outputs": [
    {
     "output_type": "execute_result",
     "data": {
      "text/plain": [
       "{'train_id': '21275320',\n",
       " 'original_doc': {'_id': '21275320',\n",
       "  '_source': {'body': [{'content': 'HLV Phan Thanh Hùng phát biểu sau trận mở màn V-League 2017',\n",
       "     'text': 'HLV Phan Thanh Hùng phát biểu sau trận mở màn V-League 2017',\n",
       "     'type': 'text'},\n",
       "    {'content': '<strong>[VIDEO]: HÀ NỘI FC 3-2 THAN QUẢNG NINH</strong>',\n",
       "     'text': '[VIDEO]: HÀ NỘI FC 3-2 THAN QUẢNG NINH',\n",
       "     'type': 'text'},\n",
       "    {'content': '“Các bạn xem trận đấu sẽ biết ngay trọng tài đúng hay sai. Tôi không cần nói gì nhiều, chúng ta sẽ biết trọng tài xử trong trận hôm nay đúng hay chưa”, HLV Phan Thanh Hùng trả lời câu hỏi của phóng viên về công tác trọng tài chính điều khiển trận đấu ngày hôm nay, đặc biệt ở tình huống đáng nhẽ Than Quảng Ninh được hưởng một quả phạt đền phút 89.',\n",
       "     'text': '“Các bạn xem trận đấu sẽ biết ngay trọng tài đúng hay sai. Tôi không cần nói gì nhiều, chúng ta sẽ biết trọng tài xử trong trận hôm nay đúng hay chưa”, HLV Phan Thanh Hùng trả lời câu hỏi của phóng viên về công tác trọng tài chính điều khiển trận đấu ngày hôm nay, đặc biệt ở tình huống đáng nhẽ Than Quảng Ninh được hưởng một quả phạt đền phút 89.',\n",
       "     'type': 'text'},\n",
       "    {'content': 'Theo ông Hùng, trọng tài Nguyễn Đức Vũ đã làm vỡ kết cục cuối cùng của trận đấu.',\n",
       "     'text': 'Theo ông Hùng, trọng tài Nguyễn Đức Vũ đã làm vỡ kết cục cuối cùng của trận đấu.',\n",
       "     'type': 'text'},\n",
       "    {'content': '<strong>[VIDEO]: XEM 2 TÌNH HUỐNG TRỌNG TÀI NGUYỄN ĐỨC VŨ KHÔNG CHO THAN QUẢNG NINH HƯỞNG PHẠT ĐỀN</strong>',\n",
       "     'text': '[VIDEO]: XEM 2 TÌNH HUỐNG TRỌNG TÀI NGUYỄN ĐỨC VŨ KHÔNG CHO THAN QUẢNG NINH HƯỞNG PHẠT ĐỀN',\n",
       "     'type': 'text'},\n",
       "    {'content': 'Tuy nhiên, nói về người cầm cân nảy mực trong trận đấu, HLV Chu Đình Nghiêm của Hà Nội T&amp;T cho biết: “Tôi không bình luận về trọng tài hôm nay. Trận đấu rất hay, và Hà Nội T&amp;T chiến thắng xứng đáng. Nếu các bạn xem lại cũng sẽ thấy, Hà Nội T&amp;T chiến thắng thuyết phục bằng chính khả năng của mình, không phải các lý do nào khác”.',\n",
       "     'text': 'Tuy nhiên, nói về người cầm cân nảy mực trong trận đấu, HLV Chu Đình Nghiêm của Hà Nội T&amp;T cho biết: “Tôi không bình luận về trọng tài hôm nay. Trận đấu rất hay, và Hà Nội T&amp;T chiến thắng xứng đáng. Nếu các bạn xem lại cũng sẽ thấy, Hà Nội T&amp;T chiến thắng thuyết phục bằng chính khả năng của mình, không phải các lý do nào khác”.',\n",
       "     'type': 'text'},\n",
       "    {'content': 'Nhận xét chung về diễn biến trận khai mạc V-League 2017, cả HLV Phan Thanh Hùng và Chu Đình Nghiêm đều cho rằng đây là một trận đấu giàu cảm xúc, các đội bóng đã nỗ lực, cống hiến hết mình.',\n",
       "     'text': 'Nhận xét chung về diễn biến trận khai mạc V-League 2017, cả HLV Phan Thanh Hùng và Chu Đình Nghiêm đều cho rằng đây là một trận đấu giàu cảm xúc, các đội bóng đã nỗ lực, cống hiến hết mình.',\n",
       "     'type': 'text'},\n",
       "    {'content': 'HLV Chu Đình Nghiêm tại buổi họp báo',\n",
       "     'text': 'HLV Chu Đình Nghiêm tại buổi họp báo',\n",
       "     'type': 'text'},\n",
       "    {'content': '“Trong vòng vài tháng qua, Hà Nội T&amp;T và Than Quảng Ninh đã gặp lại nhau rất nhiều lần, chúng tôi có hòa, có thắng, có thua, nhưng tôi rất mừng khi trận đấu ngày hôm nay chứng kiến sự trưởng thành của các cầu thủ phía chúng tôi. Các bạn có thể thấy, Hà Nội T&amp;T và Than Quảng Ninh, hai đội cùng mạnh, lối chơi gần giống nhau, quen thuộc lối chơi của nhau, vậy thì đội nào tạo ra được nhiều cơ hội và tận dụng được nhiều cơ hội thì đó là đội chiến thắng”, ông Chu Đình Nghiêm phát biểu.',\n",
       "     'text': '“Trong vòng vài tháng qua, Hà Nội T&amp;T và Than Quảng Ninh đã gặp lại nhau rất nhiều lần, chúng tôi có hòa, có thắng, có thua, nhưng tôi rất mừng khi trận đấu ngày hôm nay chứng kiến sự trưởng thành của các cầu thủ phía chúng tôi. Các bạn có thể thấy, Hà Nội T&amp;T và Than Quảng Ninh, hai đội cùng mạnh, lối chơi gần giống nhau, quen thuộc lối chơi của nhau, vậy thì đội nào tạo ra được nhiều cơ hội và tận dụng được nhiều cơ hội thì đó là đội chiến thắng”, ông Chu Đình Nghiêm phát biểu.',\n",
       "     'type': 'text'},\n",
       "    {'content': 'Là cuộc tái ngộ của hai đội bóng từng tranh Siêu Cúp quốc gia những ngày cuối tháng 12.2016, cả Than Quảng Ninh và Hà Nội T&amp;T đều nhập cuộc máu lửa và sớm cho khán giả thấy được tầm vóc của hai đội bóng “ông tám lạng, bà nửa cân”.',\n",
       "     'text': 'Là cuộc tái ngộ của hai đội bóng từng tranh Siêu Cúp quốc gia những ngày cuối tháng 12.2016, cả Than Quảng Ninh và Hà Nội T&amp;T đều nhập cuộc máu lửa và sớm cho khán giả thấy được tầm vóc của hai đội bóng “ông tám lạng, bà nửa cân”.',\n",
       "     'type': 'text'},\n",
       "    {'content': 'Giống như trận Siêu Cúp quốc gia sớm có bàn thắng, trận mở màn V-League 2017 chỉ khác biệt là tiền đạo Quang Hải là người mở tỷ số trước cho Hà Nội T&amp;T ngay ở phút thứ 2.',\n",
       "     'text': 'Giống như trận Siêu Cúp quốc gia sớm có bàn thắng, trận mở màn V-League 2017 chỉ khác biệt là tiền đạo Quang Hải là người mở tỷ số trước cho Hà Nội T&amp;T ngay ở phút thứ 2.',\n",
       "     'type': 'text'},\n",
       "    {'content': 'Quang Hải (hàng đầu từ bên trái) đã lập cú đúp cho Hà Nội FC',\n",
       "     'text': 'Quang Hải (hàng đầu từ bên trái) đã lập cú đúp cho Hà Nội FC',\n",
       "     'type': 'text'},\n",
       "    {'content': '2 phút sau, Than Quảng Ninh gỡ hòa bằng bàn thắng của Nguyên Sa, lính mới của đội bóng vùng mỏ. Hai đội rượt đuổi nhau sát nút, phút 30, Alvaro Silva giúp đội bóng chủ nhà vươn lên dẫn trước với tỷ số 2-1, đây cũng là tỷ số khi kết thúc hiệp 1.',\n",
       "     'text': '2 phút sau, Than Quảng Ninh gỡ hòa bằng bàn thắng của Nguyên Sa, lính mới của đội bóng vùng mỏ. Hai đội rượt đuổi nhau sát nút, phút 30, Alvaro Silva giúp đội bóng chủ nhà vươn lên dẫn trước với tỷ số 2-1, đây cũng là tỷ số khi kết thúc hiệp 1.',\n",
       "     'type': 'text'},\n",
       "    {'content': 'Hiệp 2, tốc độ trận đấu đẩy lên cao hơn, nỗ lực gỡ hòa của đội khách chưa thành công thì đã sớm bị Quang Hải dập tắt niềm hi vọng bằng bàn thắng ghi ở phút 50. Tuy nhiên, hàng trăm khán giả áo xanh đến từ Quảng Ninh không phải chờ đợi lâu, Quách Tân rút ngắn tỷ số xuống 2-3.',\n",
       "     'text': 'Hiệp 2, tốc độ trận đấu đẩy lên cao hơn, nỗ lực gỡ hòa của đội khách chưa thành công thì đã sớm bị Quang Hải dập tắt niềm hi vọng bằng bàn thắng ghi ở phút 50. Tuy nhiên, hàng trăm khán giả áo xanh đến từ Quảng Ninh không phải chờ đợi lâu, Quách Tân rút ngắn tỷ số xuống 2-3.',\n",
       "     'type': 'text'},\n",
       "    {'content': 'Những phút còn lại của hiệp 2 là cuộc rượt đuổi căng thẳng, hồi hộp của đương kim vô địch Siêu cúp quốc gia và đương kim vô địch V-League. Song, cả hai đều bỏ lỡ nhiều cơ hội bóng đi vào lưới. Chung cuộc, Than Quảng Ninh đành chấp nhận mất 3 điểm trong một trận đấu hay, nhiều cảm xúc nhưng thiếu may mắn.',\n",
       "     'text': 'Những phút còn lại của hiệp 2 là cuộc rượt đuổi căng thẳng, hồi hộp của đương kim vô địch Siêu cúp quốc gia và đương kim vô địch V-League. Song, cả hai đều bỏ lỡ nhiều cơ hội bóng đi vào lưới. Chung cuộc, Than Quảng Ninh đành chấp nhận mất 3 điểm trong một trận đấu hay, nhiều cảm xúc nhưng thiếu may mắn.',\n",
       "     'type': 'text'},\n",
       "    {'content': 'Đương kim vô địch Hà Nội FC đã có chiến thắng đầu tay',\n",
       "     'text': 'Đương kim vô địch Hà Nội FC đã có chiến thắng đầu tay',\n",
       "     'type': 'text'},\n",
       "    {'content': 'Tuy nhiên, điều khiến hội cổ động viên Than Quảng Ninh bức xúc nhất chiều nay, không phải là tỷ số mà là trọng tài.',\n",
       "     'text': 'Tuy nhiên, điều khiến hội cổ động viên Than Quảng Ninh bức xúc nhất chiều nay, không phải là tỷ số mà là trọng tài.',\n",
       "     'type': 'text'},\n",
       "    {'content': 'Nhiều lần bỏ qua các pha phạm lỗi của các cầu thủ Hà Nội T&amp;T, ở phút 89, trọng tài chính Nguyễn Đức Vũ cũng làm ngơ pha phạm lỗi của Phan Kiên phía đội chủ nhà khi kéo ngã Jardel của Than Quảng Ninh trong vòng cấm.',\n",
       "     'text': 'Nhiều lần bỏ qua các pha phạm lỗi của các cầu thủ Hà Nội T&amp;T, ở phút 89, trọng tài chính Nguyễn Đức Vũ cũng làm ngơ pha phạm lỗi của Phan Kiên phía đội chủ nhà khi kéo ngã Jardel của Than Quảng Ninh trong vòng cấm.',\n",
       "     'type': 'text'},\n",
       "    {'content': 'Các cổ động viên vùng Than rất văn minh khi chỉ biết hô lớn trên khán đài, liên tiếp những câu: “Trọng tài ơi cố lên”, “Trọng tài Vũ ơi, cố gắng hơn ở trận sau nhé”. Kết thúc trận đấu, hình ảnh đẹp đã lặp lại trên sân Hàng Đẫy khi hàng trăm cổ động viên vùng mỏ đứng dậy, vỗ tay, động viên các cầu thủ theo phong cách \"Viking\" - cách cổ vũ quen thuộc của cổ động viên Than Quảng Ninh.',\n",
       "     'text': 'Các cổ động viên vùng Than rất văn minh khi chỉ biết hô lớn trên khán đài, liên tiếp những câu: “Trọng tài ơi cố lên”, “Trọng tài Vũ ơi, cố gắng hơn ở trận sau nhé”. Kết thúc trận đấu, hình ảnh đẹp đã lặp lại trên sân Hàng Đẫy khi hàng trăm cổ động viên vùng mỏ đứng dậy, vỗ tay, động viên các cầu thủ theo phong cách \"Viking\" - cách cổ vũ quen thuộc của cổ động viên Than Quảng Ninh.',\n",
       "     'type': 'text'},\n",
       "    {'content': '<strong>Tiếc cho Quang Hải không được giải Cầu thủ trẻ xuất sắc nhất</strong>',\n",
       "     'text': 'Tiếc cho Quang Hải không được giải Cầu thủ trẻ xuất sắc nhất',\n",
       "     'type': 'text'},\n",
       "    {'content': 'Cả hai HLV đều dành những lời nhận xét tốt đẹp nói về cầu thủ trưởng thành từ màu áo U.19 Việt Nam Nguyễn Quang Hải, người lập cú đúp bàn thắng trong trận chiều nay.',\n",
       "     'text': 'Cả hai HLV đều dành những lời nhận xét tốt đẹp nói về cầu thủ trưởng thành từ màu áo U.19 Việt Nam Nguyễn Quang Hải, người lập cú đúp bàn thắng trong trận chiều nay.',\n",
       "     'type': 'text'},\n",
       "    {'content': 'HLV Phan Thanh Hùng tặc lưỡi: “Tôi tiếc là cậu ấy không được giải Cầu thủ trẻ xuất sắc nhất. Cậu ấy đã chơi tốt cả mùa trước, và đến ngày hôm nay chúng ta thấy cậu ấy cố gắng hơn”.',\n",
       "     'text': 'HLV Phan Thanh Hùng tặc lưỡi: “Tôi tiếc là cậu ấy không được giải Cầu thủ trẻ xuất sắc nhất. Cậu ấy đã chơi tốt cả mùa trước, và đến ngày hôm nay chúng ta thấy cậu ấy cố gắng hơn”.',\n",
       "     'type': 'text'},\n",
       "    {'content': 'Trong khi đó, HLV Chu Đình Nghiêm khiêm tốn: “Tôi không bất ngờ về Quang Hải. Tôi cũng tin tưởng với tính cách của Quang Hải, cậu ấy sẽ không bị ánh hào quang cũng như những lời khen ngợi của truyền thông dẫn đến đi vào vết xe đổ giống như một số cầu thủ đi trước.',\n",
       "     'text': 'Trong khi đó, HLV Chu Đình Nghiêm khiêm tốn: “Tôi không bất ngờ về Quang Hải. Tôi cũng tin tưởng với tính cách của Quang Hải, cậu ấy sẽ không bị ánh hào quang cũng như những lời khen ngợi của truyền thông dẫn đến đi vào vết xe đổ giống như một số cầu thủ đi trước.',\n",
       "     'type': 'text'},\n",
       "    {'content': 'Hải còn trẻ, còn phải cố gắng nhiều. Tôi vui khi sau mỗi trận, dù Hải có ghi được bàn hay không, cậu ấy đều chăm chỉ, nỗ lực lại từ đầu\".',\n",
       "     'text': 'Hải còn trẻ, còn phải cố gắng nhiều. Tôi vui khi sau mỗi trận, dù Hải có ghi được bàn hay không, cậu ấy đều chăm chỉ, nỗ lực lại từ đầu\".',\n",
       "     'type': 'text'},\n",
       "    {'content': '<strong>Thúy Hằng</strong>',\n",
       "     'text': 'Thúy Hằng',\n",
       "     'type': 'text'}],\n",
       "   'content_id': 21275320,\n",
       "   'description': 'Giọng khàn đặc bước vào phòng họp báo, HLV Phan Thanh Hùng đã cố gắng nói rõ nhất để các phóng viên biết rằng ông hài lòng về trận đấu giữa Than Quảng Ninh và Hà Nội T&T chiều nay, 7.1, tuy nhiên, khi nhắc đến trọng tài, ông Hùng nhún vai.',\n",
       "   'last_update': '1483802193000',\n",
       "   'original_url': 'http://thethao.thanhnien.vn/bong-da-viet-nam/ha-noi-fc-32-than-quang-ninh-xem-tran-dau-se-biet-ngay-trong-tai-dung-hay-sai-71334.html',\n",
       "   'publish_date': 1483797054}},\n",
       " 'html_annotation': ['<span>HLV Phan Thanh Hùng phát biểu sau trận mở màn V-League 2017</span>',\n",
       "  '<span>[VIDEO]: </span><span class=\"tag match_result\" data=\":match_result:\" event_id=\"7\">HÀ NỘI FC 3-2 THAN QUẢNG NINH</span>',\n",
       "  '<span>“Các bạn xem trận đấu sẽ biết ngay trọng tài đúng hay sai. Tôi không cần nói gì nhiều, chúng ta sẽ biết trọng tài xử trong trận hôm nay đúng hay chưa”, HLV Phan Thanh Hùng trả lời câu hỏi của phóng viên về công tác trọng tài chính điều khiển trận đấu ngày hôm nay, đặc biệt ở tình huống đáng nhẽ Than Quảng Ninh được hưởng một quả phạt đền phút 89.</span>',\n",
       "  '<span>Theo ông Hùng, trọng tài Nguyễn Đức Vũ đã làm vỡ kết cục cuối cùng của trận đấu.</span>',\n",
       "  '<span>[VIDEO]: XEM 2 TÌNH HUỐNG TRỌNG TÀI NGUYỄN ĐỨC VŨ KHÔNG CHO THAN QUẢNG NINH HƯỞNG PHẠT ĐỀN</span>',\n",
       "  '<span>Tuy nhiên, nói về người cầm cân nảy mực trong trận đấu, HLV Chu Đình Nghiêm của Hà Nội T&amp;T cho biết: “Tôi không bình luận về trọng tài hôm nay. Trận đấu rất hay, và Hà Nội T&amp;T chiến thắng xứng đáng. Nếu các bạn xem lại cũng sẽ thấy, Hà Nội T&amp;T chiến thắng thuyết phục bằng chính khả năng của mình, không phải các lý do nào khác”.</span>',\n",
       "  '<span>Nhận xét chung về diễn biến trận khai mạc V-League 2017, cả HLV Phan Thanh Hùng và Chu Đình Nghiêm đều cho rằng đây là một trận đấu giàu cảm xúc, các đội bóng đã nỗ lực, cống hiến hết mình.</span>',\n",
       "  '<span>HLV Chu Đình Nghiêm tại buổi họp báo</span>',\n",
       "  '<span>“Trong vòng vài tháng qua, Hà Nội T&amp;T và Than Quảng Ninh đã gặp lại nhau rất nhiều lần, chúng tôi có hòa, có thắng, có thua, nhưng tôi rất mừng khi trận đấu ngày hôm nay chứng kiến sự trưởng thành của các cầu thủ phía chúng tôi. Các bạn có thể thấy, Hà Nội T&amp;T và Than Quảng Ninh, hai đội cùng mạnh, lối chơi gần giống nhau, quen thuộc lối chơi của nhau, vậy thì đội nào tạo ra được nhiều cơ hội và tận dụng được nhiều cơ hội thì đó là đội chiến thắng”, ông Chu Đình Nghiêm phát biểu.</span>',\n",
       "  '<span class=\"tag match_info\" data=\":match_info:\" event_id=\"1\">Là cuộc tái ngộ của hai đội bóng từng tranh Siêu Cúp quốc gia những ngày cuối tháng 12.2016, cả Than Quảng Ninh và Hà Nội T&amp;T đều nhập cuộc máu lửa và sớm cho khán giả thấy được tầm vóc của hai đội bóng “ông tám lạng, bà nửa cân”</span><span>.</span>',\n",
       "  '<span class=\"tag goal_info\" data=\":goal_info:\" event_id=\"2\">Giống như trận Siêu Cúp quốc gia sớm có bàn thắng, trận mở màn V-League 2017 chỉ khác biệt là tiền đạo Quang Hải là người mở tỷ số trước cho Hà Nội T&amp;T ngay ở phút thứ 2</span><span>.</span>',\n",
       "  '<span>Quang Hải (hàng đầu từ bên trái) đã lập cú đúp cho Hà Nội FC</span>',\n",
       "  '<span class=\"tag goal_info\" data=\":goal_info:\" event_id=\"3\">2 phút sau, Than Quảng Ninh gỡ hòa bằng bàn thắng của Nguyên Sa, lính mới của đội bóng vùng mỏ</span><span>. </span><span class=\"tag goal_info\" data=\":goal_info:\" event_id=\"4\">Hai đội rượt đuổi nhau sát nút, phút 30, Alvaro Silva giúp đội bóng chủ nhà vươn lên dẫn trước với tỷ số 2-1, đây cũng là tỷ số khi kết thúc hiệp 1</span><span>.</span>',\n",
       "  '<span class=\"tag goal_info\" data=\":goal_info:\" event_id=\"5\">Hiệp 2, tốc độ trận đấu đẩy lên cao hơn, nỗ lực gỡ hòa của đội khách chưa thành công thì đã sớm bị Quang Hải dập tắt niềm hi vọng bằng bàn thắng ghi ở phút 50.</span><span class=\"tag goal_info\" data=\":goal_info:\" event_id=\"6\"> Tuy nhiên, hàng trăm khán giả áo xanh đến từ Quảng Ninh không phải chờ đợi lâu, Quách Tân rút ngắn tỷ số xuống 2-3</span><span>.</span>',\n",
       "  '<span>Những phút còn lại của hiệp 2 là cuộc rượt đuổi căng thẳng, hồi hộp của đương kim vô địch Siêu cúp quốc gia và đương kim vô địch V-League. Song, cả hai đều bỏ lỡ nhiều cơ hội bóng đi vào lưới. </span><span class=\"tag match_result\" data=\":match_result:\" event_id=\"8\">Chung cuộc, Than Quảng Ninh đành chấp nhận mất 3 điểm trong một trận đấu hay, nhiều cảm xúc nhưng thiếu may mắn</span><span>.</span>',\n",
       "  '<span>Đương kim vô địch Hà Nội FC đã có chiến thắng đầu tay</span>',\n",
       "  '<span>Tuy nhiên, điều khiến hội cổ động viên Than Quảng Ninh bức xúc nhất chiều nay, không phải là tỷ số mà là trọng tài.</span>',\n",
       "  '<span>Nhiều lần bỏ qua các pha phạm lỗi của các cầu thủ Hà Nội T&amp;T, ở phút 89, trọng tài chính Nguyễn Đức Vũ cũng làm ngơ pha phạm lỗi của Phan Kiên phía đội chủ nhà khi kéo ngã Jardel của Than Quảng Ninh trong vòng cấm.</span>',\n",
       "  '<span>Các cổ động viên vùng Than rất văn minh khi chỉ biết hô lớn trên khán đài, liên tiếp những câu: “Trọng tài ơi cố lên”, “Trọng tài Vũ ơi, cố gắng hơn ở trận sau nhé”. Kết thúc trận đấu, hình ảnh đẹp đã lặp lại trên sân Hàng Đẫy khi hàng trăm cổ động viên vùng mỏ đứng dậy, vỗ tay, động viên các cầu thủ theo phong cách \"Viking\" - cách cổ vũ quen thuộc của cổ động viên Than Quảng Ninh.</span>',\n",
       "  '<span>Tiếc cho Quang Hải không được giải Cầu thủ trẻ xuất sắc nhất</span>',\n",
       "  '<span>Cả hai HLV đều dành những lời nhận xét tốt đẹp nói về cầu thủ trưởng thành từ màu áo U.19 Việt Nam Nguyễn Quang Hải, người lập cú đúp bàn thắng trong trận chiều nay.</span>',\n",
       "  '<span>HLV Phan Thanh Hùng tặc lưỡi: “Tôi tiếc là cậu ấy không được giải Cầu thủ trẻ xuất sắc nhất. Cậu ấy đã chơi tốt cả mùa trước, và đến ngày hôm nay chúng ta thấy cậu ấy cố gắng hơn”.</span>',\n",
       "  '<span>Trong khi đó, HLV Chu Đình Nghiêm khiêm tốn: “Tôi không bất ngờ về Quang Hải. Tôi cũng tin tưởng với tính cách của Quang Hải, cậu ấy sẽ không bị ánh hào quang cũng như những lời khen ngợi của truyền thông dẫn đến đi vào vết xe đổ giống như một số cầu thủ đi trước.</span>',\n",
       "  '<span>Hải còn trẻ, còn phải cố gắng nhiều. Tôi vui khi sau mỗi trận, dù Hải có ghi được bàn hay không, cậu ấy đều chăm chỉ, nỗ lực lại từ đầu\".</span>',\n",
       "  '<span>Thúy Hằng</span>'],\n",
       " 'modified_time': '2020-10-19 14:47:39.466174',\n",
       " 'status': 'accept',\n",
       " 'match_summary': {'players': {'team1': 'Hà Nội T&T',\n",
       "   'team2': 'Than Quảng Ninh',\n",
       "   'ref_event_ids': '1'},\n",
       "  'score_board': {'score1': '3', 'score2': '2', 'ref_event_ids': '7'},\n",
       "  'score_list': [{'player_name': 'Quang Hải ',\n",
       "    'time': 'phút thứ 2',\n",
       "    'team': 'Hà Nội T&T',\n",
       "    'ref_event_ids': '2'},\n",
       "   {'player_name': 'Nguyên Sa',\n",
       "    'time': '2 phút sau',\n",
       "    'team': 'Than Quảng Ninh',\n",
       "    'ref_event_ids': '3'},\n",
       "   {'player_name': 'Alvaro Silva',\n",
       "    'time': 'phút 30',\n",
       "    'team': 'Hà Nội T&T',\n",
       "    'ref_event_ids': '4'},\n",
       "   {'player_name': 'Quang Hải ',\n",
       "    'time': 'phút 50',\n",
       "    'team': 'Hà Nội T&T',\n",
       "    'ref_event_ids': '5'},\n",
       "   {'player_name': 'Quách Tân',\n",
       "    'time': '',\n",
       "    'team': 'Than Quảng Ninh',\n",
       "    'ref_event_ids': '6'}],\n",
       "  'card_list': [],\n",
       "  'substitution_list': []}}"
      ]
     },
     "metadata": {},
     "execution_count": 160
    }
   ],
   "source": [
    "train[24]"
   ]
  },
  {
   "cell_type": "code",
   "execution_count": 161,
   "metadata": {},
   "outputs": [
    {
     "output_type": "execute_result",
     "data": {
      "text/plain": [
       "{'content': 'Là cuộc tái ngộ của hai đội bóng từng tranh Siêu Cúp quốc gia những ngày cuối tháng 12.2016, cả Than Quảng Ninh và Hà Nội T&amp;T đều nhập cuộc máu lửa và sớm cho khán giả thấy được tầm vóc của hai đội bóng “ông tám lạng, bà nửa cân”.',\n",
       " 'text': 'Là cuộc tái ngộ của hai đội bóng từng tranh Siêu Cúp quốc gia những ngày cuối tháng 12.2016, cả Than Quảng Ninh và Hà Nội T&amp;T đều nhập cuộc máu lửa và sớm cho khán giả thấy được tầm vóc của hai đội bóng “ông tám lạng, bà nửa cân”.',\n",
       " 'type': 'text'}"
      ]
     },
     "metadata": {},
     "execution_count": 161
    }
   ],
   "source": [
    "train[24]['original_doc']['_source']['body']"
   ]
  },
  {
   "cell_type": "code",
   "execution_count": 158,
   "metadata": {},
   "outputs": [
    {
     "output_type": "stream",
     "name": "stdout",
     "text": [
      "Là cuộc tái ngộ của hai đội bóng từng tranh Siêu Cúp quốc gia những ngày cuối tháng 12.2016, cả Than Quảng Ninh và Hà Nội T&T đều nhập cuộc máu lửa và sớm cho khán giả thấy được tầm vóc của hai đội bóng “ông tám lạng, bà nửa cân”\n"
     ]
    }
   ],
   "source": [
    "soup = BeautifulSoup(train[24]['html_annotation'][9])\n",
    "events = soup.find_all(\"span\", {\"class\": \"tag\"})\n",
    "for e in events:\n",
    "    print(e.text)"
   ]
  },
  {
   "cell_type": "code",
   "execution_count": null,
   "metadata": {},
   "outputs": [],
   "source": []
  },
  {
   "cell_type": "code",
   "execution_count": 156,
   "metadata": {},
   "outputs": [
    {
     "output_type": "stream",
     "name": "stdout",
     "text": [
      "['Là', 'cuộc', 'tái_ngộ', 'của', 'hai', 'đội', 'bóng', 'từng', 'tranh', 'Siêu_Cúp', 'quốc_gia', 'những', 'ngày', 'cuối', 'tháng', '12.2016', ',', 'cả', 'Than_Quảng_Ninh', 'và', 'Hà_Nội', 'T&T', 'đều', 'nhập_cuộc', 'máu_lửa', 'và', 'sớm', 'cho', 'khán_giả', 'thấy', 'được', 'tầm_vóc', 'của', 'hai', 'đội', 'bóng', '“', 'ông', 'tám', 'lạng', ',', 'bà', 'nửa', 'cân', '”'] ['Là', 'cuộc', 'tái_ngộ', 'của', 'hai', 'đội', 'bóng', 'từng', 'tranh', 'Siêu_Cúp', 'quốc_gia', 'những', 'ngày', 'cuối', 'tháng', '12.2016', ',', 'cả', 'Than_Quảng_Ninh', 'và', 'Hà_Nội', 'T', '&', 'amp', ';', 'T', 'đều', 'nhập_cuộc', 'máu_lửa', 'và', 'sớm', 'cho', 'khán_giả', 'thấy', 'được', 'tầm_vóc', 'của', 'hai', 'đội', 'bóng', '“', 'ông', 'tám', 'lạng', ',', 'bà', 'nửa', 'cân', '”', '.']\n24 9 ---------------------------\n"
     ]
    },
    {
     "output_type": "execute_result",
     "data": {
      "text/plain": [
       "[]"
      ]
     },
     "metadata": {},
     "execution_count": 156
    }
   ],
   "source": [
    "generate_ner_annotation(train[24],24)"
   ]
  },
  {
   "cell_type": "code",
   "execution_count": 152,
   "metadata": {},
   "outputs": [
    {
     "output_type": "stream",
     "name": "stdout",
     "text": [
      "24 9 ---------------------------\n"
     ]
    }
   ],
   "source": [
    "import codecs\n",
    "with codecs.open('train.txt', 'w', \"utf-8\") as f:\n",
    "    # json.dump(doc, modified,ensure_ascii=False,indent=4)\n",
    "    for idx,item in enumerate(train[:100]):\n",
    "        try:\n",
    "            ner_ann = generate_ner_annotation(item,idx)\n",
    "        except:\n",
    "            print('***********',idx)\n",
    "        if len(ner_ann)==0:\n",
    "            break\n",
    "        for para in ner_ann:\n",
    "            for token in para:\n",
    "                f.write('{} {}\\n'.format(token[0],token[1]))\n",
    "            f.write('\\n')"
   ]
  },
  {
   "cell_type": "code",
   "execution_count": 120,
   "metadata": {},
   "outputs": [
    {
     "output_type": "execute_result",
     "data": {
      "text/plain": [
       "15"
      ]
     },
     "metadata": {},
     "execution_count": 120
    }
   ],
   "source": [
    "len(['Tiền_đạo', 'Wilson', 'không', 'mắc', 'bất_cứ', 'sai_lầm', 'nào', 'để', 'nâng', 'tỷ_số', 'lên', '2-0', 'cho', 'Bournemouth', '.'])#, 'Tiền_đạo', 'Wilson', 'không', 'mắc', 'bất_cứ', 'sai_lầm', 'nào', 'để', 'nâng', 'tỷ_số', 'lên', '2-0', 'cho', 'Bournemouth', '.'] )"
   ]
  },
  {
   "cell_type": "code",
   "execution_count": 35,
   "metadata": {},
   "outputs": [
    {
     "output_type": "stream",
     "name": "stdout",
     "text": [
      "Video tổng hợp trận đấu:\nChelsea cần chiến thắng trước Stoke City ở Stamford Bridge để cân bằng kỷ lục 13 chiến thắng của Arsenal ở cuối mùa 2001/02. Cuối cùng, đoàn quân của HLV Conte đã hoàn thành nhiệm vụ này khi vượt qua đối thủ với tỷ số 4-2.\nỞ trận đấu này, Stoke City đã cố gắng hết sức. Họ đã đặt Chelsea vào thế rượt đuổi tỷ số. Nhưng rồi, với đẳng cấp, The Blues đã vượt lên ở thời điểm quyết định.\nChelsea tiếp tục vô đối\nVới chiến thắng này, Chelsea chính thức là ông Vua lượt đi Premier League với 49 điểm sau 19 vòng đấu. Người ta vẫn chưa tìm đối thủ đủ sức cắt đứt mạch chiến thắng của The Blues ở thời điểm này.\nBước vào trận đấu, Chelsea đón chào sự trở lại của Diego Costa. Cầu thủ người Tây Ban Nha sát cánh cùng Hazard và Willian trên hàng công. Với quá nhiều lợi thế trong tay, Chelsea đã gây sức ép lên khung thành đối thủ ngay sau tiếng còi khai cuộc.\nPhút 18, Diego Costa đã có cơ hội cực kỳ thuận lợi để ghi bàn sau đường chuyền của Fabregas. Đáng tiếc, cú dứt điểm của trong tư thế thoải mái của cầu thủ này lại không chiến thắng được thủ thành Grant.\nPhút 33, người gác đền của Stoke City lại tỏa sáng, khi dũng cảm lao ra truy cản Diego Costa, ngay trước khi cầu thủ này kịp tung ra cú dứt điểm.\nTuy vậy, 1 phút sau, Chelsea đã cụ thể hóa sức ép liên tục bằng bàn thắng. Người lập công cho The Blues là đội trưởng Cahill với cú đánh đầu cận thành từ tình huống phạt góc.\nNgay đầu hiệp 2, Stoke City đã bất ngờ tìm được bàn thắng gỡ hòa. Từ tình huống cố định, Crouch đã nhả đầu cho Indi đệm bóng vào lưới thủ thành Courtois.\nStoke không thể cản nổi The Blues\nThế nhưng, Chelsea cho thấy họ không chỉ chơi phòng ngự-phản công tốt mà khả năng tấn công của họ cũng rất tốt. Phút 57, sau pha nhả bóng của Hazard, Willian đã tung ra cú dứt điểm cháy lưới của Stoke City, nâng tỷ số lên 2-1.\nKịch tính của trận đấu được đẩy lên khi Stoke City đã có được bàn thắng gỡ hòa 2-2 ở phút 64. Đây là CLB duy nhất có thể ghi quá 1 bàn thắng vào lưới Chelsea trong chuỗi chiến thắng liên tiếp.\nChỉ có điều, Chelsea quá bản lĩnh để vượt qua khó khăn Stoke City mang tới. Đúng 1 phút sau, Willian đã hoàn tất cú đúp, giúp Chelsea vượt lên dẫn trước với tỷ số 3-2.\nPhút 84, Diego Costa đã chấm dứt hy vọng của Stoke City với bàn thắng ấn định chiến thắng 4-2 sau sai lầm của hậu vệ Indi bên phía Stoke City.\nGhi bàn: Cahill 34'; Willian 57', 65'; Costa 85' - Martins Indi 46'; Crouch 64'.\nĐội hình thi đấu:\nChelsea: Courtois, Azpilicueta, Luiz, Cahill, Moses, Kante, Fabregas, Alonso, Willian, Hazard, Costa.\nStoke City: Grant, Johnson, Shawcross, Martins Indi, Pieters, Allen, Adam, Diouf, Afellay, Shaqiri, Crouch.\nHoàng Việt\n\n"
     ]
    }
   ],
   "source": [
    "print(item_to_string(train[0]))"
   ]
  },
  {
   "cell_type": "code",
   "execution_count": 25,
   "metadata": {},
   "outputs": [],
   "source": [
    "def ref_id_to_info(ref_id,match_summary):\n",
    "    output=[]\n",
    "    for category in match_summary:\n",
    "        if category in {'score_list','card_list','substitution_list'}:\n",
    "            if isinstance(match_summary[category],list):\n",
    "                output+=[(category,item) for item in match_summary[category] if str(ref_id) in item['ref_event_ids']]\n",
    "            else:\n",
    "                if ref_id in match_summary[category]['ref_event_ids']:\n",
    "                    output.append((category,match_summary[category]))\n",
    "    return output\n"
   ]
  },
  {
   "cell_type": "code",
   "execution_count": 18,
   "metadata": {},
   "outputs": [
    {
     "output_type": "execute_result",
     "data": {
      "text/plain": [
       "list"
      ]
     },
     "metadata": {},
     "execution_count": 18
    }
   ],
   "source": [
    "type([1,2,3])"
   ]
  },
  {
   "cell_type": "code",
   "execution_count": 24,
   "metadata": {},
   "outputs": [
    {
     "output_type": "execute_result",
     "data": {
      "text/plain": [
       "[('score_list',\n",
       "  {'player_name': 'Diego Costa',\n",
       "   'time': '85',\n",
       "   'team': 'Chelsea',\n",
       "   'ref_event_ids': '6,7'})]"
      ]
     },
     "metadata": {},
     "execution_count": 24
    }
   ],
   "source": [
    "ref_id_to_info(6,item['match_summary'])"
   ]
  },
  {
   "cell_type": "code",
   "execution_count": 10,
   "metadata": {},
   "outputs": [
    {
     "output_type": "execute_result",
     "data": {
      "text/plain": [
       "{'players': {'team1': 'Chelsea', 'team2': 'Stoke', 'ref_event_ids': '1'},\n",
       " 'score_board': {'score1': '4', 'score2': '2', 'ref_event_ids': '1,6'},\n",
       " 'score_list': [{'player_name': 'Cahill',\n",
       "   'time': '34',\n",
       "   'team': 'Chelsea',\n",
       "   'ref_event_ids': '2,7'},\n",
       "  {'player_name': 'Willian',\n",
       "   'time': '57',\n",
       "   'team': 'Chelsea',\n",
       "   'ref_event_ids': '3,7'},\n",
       "  {'player_name': 'Crouch',\n",
       "   'time': '64',\n",
       "   'team': 'Stoke',\n",
       "   'ref_event_ids': '4,7,8'},\n",
       "  {'player_name': 'Diego Costa',\n",
       "   'time': '85',\n",
       "   'team': 'Chelsea',\n",
       "   'ref_event_ids': '6,7'},\n",
       "  {'player_name': 'Willian',\n",
       "   'time': '65',\n",
       "   'team': 'Chelsea',\n",
       "   'ref_event_ids': '5,7'},\n",
       "  {'player_name': 'Martins Indi',\n",
       "   'time': '46',\n",
       "   'team': 'Stoke',\n",
       "   'ref_event_ids': '7'}],\n",
       " 'card_list': [],\n",
       " 'substitution_list': []}"
      ]
     },
     "metadata": {},
     "execution_count": 10
    }
   ],
   "source": [
    "for"
   ]
  }
 ]
}