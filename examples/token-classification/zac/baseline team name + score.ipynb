{
 "metadata": {
  "language_info": {
   "codemirror_mode": {
    "name": "ipython",
    "version": 3
   },
   "file_extension": ".py",
   "mimetype": "text/x-python",
   "name": "python",
   "nbconvert_exporter": "python",
   "pygments_lexer": "ipython3",
   "version": "3.6.12-final"
  },
  "orig_nbformat": 2,
  "kernelspec": {
   "name": "python3",
   "display_name": "Python 3.6.12 64-bit ('venv3.6': venv)",
   "metadata": {
    "interpreter": {
     "hash": "1bd94d72ea1c931ca1e9873483145072b73fa905630d31b95aa61568ae1bc5c2"
    }
   }
  }
 },
 "nbformat": 4,
 "nbformat_minor": 2,
 "cells": [
  {
   "cell_type": "code",
   "execution_count": 4,
   "metadata": {},
   "outputs": [
    {
     "output_type": "execute_result",
     "data": {
      "text/plain": [
       "278"
      ]
     },
     "metadata": {},
     "execution_count": 4
    }
   ],
   "source": [
    "import json\n",
    "with open('/mnt/d/zaloAI2020/zac2020/data/release/private_test/private_test/private_test.jsonl',encoding=\"utf-8\") as f:\n",
    "    p_test = [json.loads(jline) for jline in f.read().splitlines()]\n",
    "len(p_test)"
   ]
  },
  {
   "source": [
    "## Team names - NER"
   ],
   "cell_type": "markdown",
   "metadata": {}
  },
  {
   "cell_type": "code",
   "execution_count": 5,
   "metadata": {},
   "outputs": [],
   "source": [
    "from vncorenlp import VnCoreNLP\n",
    "\n",
    "# To perform word segmentation, POS tagging, NER\n",
    "annotator = VnCoreNLP(\"/home/hoanganh/zac2020-IE/VnCoreNLP/VnCoreNLP-1.1.1.jar\", annotators=\"wseg,pos,ner,parse\", max_heap_size='-Xmx2g') "
   ]
  },
  {
   "cell_type": "code",
   "execution_count": 6,
   "metadata": {},
   "outputs": [],
   "source": [
    "text = \"Cú đúp bàn thắng của tiền đạo Suso cùng các pha lập công của Franck Kessie và Samu Castillejo đã giúp AC Milan có trận đại thắng 4-1 trước chủ nhà Sassuolo, qua đó tạm thời giúp chiếc ghế HLV của Gennaro Gattuso tạm yên ổn.\"\n",
    "annotate = annotator.annotate(text)"
   ]
  },
  {
   "cell_type": "code",
   "execution_count": 47,
   "metadata": {},
   "outputs": [
    {
     "output_type": "execute_result",
     "data": {
      "text/plain": [
       "[[('sub', 4, 1),\n",
       "  ('nmod', 1, 2),\n",
       "  ('adv', 4, 3),\n",
       "  ('root', 0, 4),\n",
       "  ('loc', 4, 5),\n",
       "  ('pob', 5, 6),\n",
       "  ('nmod', 6, 7),\n",
       "  ('nmod', 6, 8),\n",
       "  ('punct', 4, 9)],\n",
       " [('sub', 9, 1),\n",
       "  ('nmod', 1, 2),\n",
       "  ('punct', 1, 3),\n",
       "  ('nmod', 1, 4),\n",
       "  ('nmod', 4, 5),\n",
       "  ('nmod', 5, 6),\n",
       "  ('punct', 1, 7),\n",
       "  ('adv', 9, 8),\n",
       "  ('root', 0, 9),\n",
       "  ('loc', 9, 10),\n",
       "  ('pob', 10, 11),\n",
       "  ('punct', 9, 12)]]"
      ]
     },
     "metadata": {},
     "execution_count": 47
    }
   ],
   "source": [
    "parse"
   ]
  },
  {
   "cell_type": "code",
   "execution_count": 8,
   "metadata": {},
   "outputs": [],
   "source": [
    "def filter_ner_annotation(ner):\n",
    "    output=[]\n",
    "    type=text=''\n",
    "    for sentence in ner:\n",
    "        for token in sentence:\n",
    "            if token[1][0]=='B':\n",
    "                if text!='':\n",
    "                    output.append((type,text.strip()))\n",
    "                type=token[1][2:]\n",
    "                text = ' '.join(token[0].split('_'))+' '\n",
    "            elif token[1]=='O':\n",
    "                if text!='':\n",
    "                    output.append((type,text.strip()))\n",
    "                type = text = ''\n",
    "            else:\n",
    "                text += ' '.join(token[0].split('_'))+' '\n",
    "    if text!='':\n",
    "        output.append((type,text))\n",
    "\n",
    "    return output\n",
    "\n",
    "def count_ner(ner_output):\n",
    "    ner_dict={}\n",
    "    for token in ner_output:\n",
    "        if token not in ner_dict:\n",
    "            ner_dict[token]=1\n",
    "        else:\n",
    "            ner_dict[token]+=1\n",
    "    return ner_dict\n",
    "\n",
    "def two_most_frequent_names(ner_dict,tag={'PER','ORG'}):\n",
    "    org = [(name,ner_dict[name]) for name in ner_dict if name[0]=='ORG']\n",
    "    sorted_org = [item[0][1] for item in sorted(org, key=lambda item: -item[1])]\n",
    "\n",
    "    if len(sorted_org)>=2:\n",
    "        return sorted_org[:2]\n",
    "    else:\n",
    "        per = [(name,ner_dict[name]) for name in ner_dict if name[0]=='PER']\n",
    "    sorted_per = [item[0][1] for item in sorted(per, key=lambda item: -item[1])]\n",
    "    return sorted_org+sorted_per[:2-len(sorted_org)]"
   ]
  },
  {
   "cell_type": "code",
   "execution_count": 9,
   "metadata": {},
   "outputs": [],
   "source": [
    "text = ('Do đụng phải đối thủ được đánh giá cao hơn, không ngạc Young Boys chọn lối chơi phòng ngự chặt chẽ và chờ cơ hội phản công mỗi khi có cơ hội. Chủ trương của họ phát huy hiệu quả khá tốt trong những phút đầu.'\n",
    "'Việc các cầu thủ ở tuyến giữa M.U như Fred hay Pogba không có nhiều thời gian xử lý khi có tới vài đối thủ ập vào mỗi khi có bóng khiến Quỷ đỏ gặp không ít khó khăn. Thực tế là thủ môn David De Gea của họ đã có những giây phút phải làm việc vất vả khi đối mặt với những cú đá tầm xa hay các pha tạt bóng ẩn chứa đầy hiểm họa.'\n",
    "'Rất may cho M.U là trong tình cảnh như vậy, Pogba đã giúp các vị khách vượt qua sóng gió khi tỏa sáng đúng lúc ở phút 35. Với cú \"nã đại bác\" từ ngoài vòng cấm làm bó tay thủ thành David von Ballmoos, tiền vệ người Pháp đã chứng minh tại sao anh là một trong những cầu thủ đắt giá nhất thế giới.'\n",
    "'9 phút sau, M.U có cơ hội rất tốt để nhân đôi cách biệt khi hậu vệ Kevin Mbabu của Young Boys để bóng chạm tay trong vòng cấm sau đường chuyền của cầu thủ mới trở lại sau chấn thương Luke Shaw. Trên chấm 11m, Pogba dễ dàng hoàn tất cú đúp giúp M.U tạo ra cách biệt an toàn.'\n",
    "'Tạo ra lợi thế không nhỏ ngay trong hiệp 1, M.U thi đấu khá ung dung trong hiệp 2. Họ không cần phải đẩy tốc độ trận đấu lên quá cao trong khi Young Boys buộc phải nỗ lực tìm kiếm bàn gỡ. Phút 66, lại là Pogba ghi dấu ấn với đường chuyền giúp tiền đạo Martial thoát xuống dứt điểm vào ngay góc gần mang về bàn thắng thứ 3 cho M.U.'\n",
    "\n",
    "'Trong những phút còn lại, Young Boys tỏ ra buông xuôi và tất cả những gì họ làm được chỉ là vài cú dứt điểm không đủ khó để khiến khung thành đội khách phải chao đảo. Về phần mình, M.U cũng chỉ thi đấu cầm chừng và tỷ số 3-0 được giữ nguyên cho tới khi trọng tài thổi còi mãn cuộc.')\n",
    "\n",
    "ner=annotator.ner(text)"
   ]
  },
  {
   "cell_type": "code",
   "execution_count": 10,
   "metadata": {},
   "outputs": [
    {
     "output_type": "execute_result",
     "data": {
      "text/plain": [
       "['M.U', 'Young Boys']"
      ]
     },
     "metadata": {},
     "execution_count": 10
    }
   ],
   "source": [
    "two_most_frequent_names(count_ner(filter_ner_annotation(ner)))"
   ]
  },
  {
   "cell_type": "code",
   "execution_count": 11,
   "metadata": {},
   "outputs": [],
   "source": [
    "def item_to_string(item):\n",
    "    s=''\n",
    "    for para in item['original_doc']['_source']['body']:\n",
    "        s+=para['text']\n",
    "    return s"
   ]
  },
  {
   "source": [
    "## Scores - regular expression"
   ],
   "cell_type": "markdown",
   "metadata": {}
  },
  {
   "cell_type": "code",
   "execution_count": 12,
   "metadata": {},
   "outputs": [],
   "source": [
    "import re\n",
    "def detect_score_board(text):\n",
    "    candidates = re.findall('[^-][0-9]+\\s*-\\s*[0-9]+[^-]',text)\n",
    "    if len(candidates)==0:\n",
    "        return (0,0)\n",
    "    scores_numbers = [int(number_str) for number_str in re.findall('[0-9]+',candidates[-1])]\n",
    "    scores_numbers.sort()\n",
    "    return scores_numbers[1], scores_numbers[0]\n"
   ]
  },
  {
   "cell_type": "code",
   "execution_count": 13,
   "metadata": {},
   "outputs": [
    {
     "output_type": "execute_result",
     "data": {
      "text/plain": [
       "(3, 0)"
      ]
     },
     "metadata": {},
     "execution_count": 13
    }
   ],
   "source": [
    "detect_score_board(text)"
   ]
  },
  {
   "source": [
    "## Output"
   ],
   "cell_type": "markdown",
   "metadata": {}
  },
  {
   "cell_type": "code",
   "execution_count": 15,
   "metadata": {},
   "outputs": [],
   "source": [
    "import codecs\n",
    "with codecs.open('submit_private.jsonl', 'w', \"utf-8\") as modified:\n",
    "    for item in p_test:\n",
    "        text = item_to_string(item)\n",
    "        ner = annotator.ner(text)\n",
    "        team1,team2=two_most_frequent_names(count_ner(filter_ner_annotation(ner)))\n",
    "        score1,score2 = detect_score_board(text)\n",
    "        json.dump({\"test_id\": item['test_id'], \"match_summary\": {\"players\": {\"team1\": team1, \"team2\": team2}, \"score_board\": {\"score1\": str(score1), \"score2\": str(score2)}, \"score_list\": [{\"player_name\": \"\", \"time\": \"\", \"team\": \"\"}], \"card_list\": [{\"player_name\": \"\", \"time\": \"\", \"team\": \"\"}], \"substitution_list\": [{\"player_in\": \"\", \"time\": \"\", \"player_out\": \"\"}]}}, modified,ensure_ascii=False)\n",
    "        modified.write('\\n')"
   ]
  },
  {
   "cell_type": "code",
   "execution_count": null,
   "metadata": {},
   "outputs": [],
   "source": []
  }
 ]
}